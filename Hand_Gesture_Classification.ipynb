{
  "nbformat": 4,
  "nbformat_minor": 0,
  "metadata": {
    "colab": {
      "name": "Hand-Gesture-Classification.ipynb",
      "provenance": [],
      "collapsed_sections": [],
      "authorship_tag": "ABX9TyMR6xqB8Q9bA+XusS+YlJzb"
    },
    "kernelspec": {
      "name": "python3",
      "display_name": "Python 3"
    },
    "language_info": {
      "name": "python"
    }
  },
  "cells": [
    {
      "cell_type": "markdown",
      "metadata": {
        "id": "BC1v0AL8dL8O"
      },
      "source": [
        "#Cloning and data ready"
      ]
    },
    {
      "cell_type": "code",
      "metadata": {
        "id": "FwszkJQdUxBE",
        "colab": {
          "base_uri": "https://localhost:8080/"
        },
        "outputId": "a4841048-8fc4-4bc6-99e2-7babef9114f4"
      },
      "source": [
        "!git clone https://github.com/Pooria90/Hand-Gestures-Classification.git\n",
        "!pip install rarfile"
      ],
      "execution_count": 1,
      "outputs": [
        {
          "output_type": "stream",
          "name": "stdout",
          "text": [
            "Cloning into 'Hand-Gestures-Classification'...\n",
            "remote: Enumerating objects: 9, done.\u001b[K\n",
            "remote: Counting objects: 100% (9/9), done.\u001b[K\n",
            "remote: Compressing objects: 100% (7/7), done.\u001b[K\n",
            "remote: Total 9 (delta 0), reused 3 (delta 0), pack-reused 0\u001b[K\n",
            "Unpacking objects: 100% (9/9), done.\n"
          ]
        }
      ]
    },
    {
      "cell_type": "code",
      "metadata": {
        "colab": {
          "base_uri": "https://localhost:8080/"
        },
        "id": "KDfB8poHPd-w",
        "outputId": "f72d880f-76d3-4963-ad99-603475f79743"
      },
      "source": [
        "import os\n",
        "from pathlib import Path\n",
        "\n",
        "path = Path(os.getcwd()+'/Hand-Gestures-Classification')\n",
        "os.chdir(path)\n",
        "print (os.getcwd())"
      ],
      "execution_count": 6,
      "outputs": [
        {
          "output_type": "stream",
          "name": "stdout",
          "text": [
            "/content/Hand-Gestures-Classification\n"
          ]
        }
      ]
    },
    {
      "cell_type": "code",
      "metadata": {
        "colab": {
          "base_uri": "https://localhost:8080/"
        },
        "id": "74zup0f4RjHZ",
        "outputId": "5acf403b-9dea-49fc-a10b-4f684e8cb2c2"
      },
      "source": [
        "import rarfile\n",
        "import shutil\n",
        "\n",
        "rar = rarfile.RarFile('DL2122_HW01.rar',mode='r')\n",
        "print (rar.getinfo('DL2122_HW01/Q1_test.csv'))\n",
        "print (rar.infolist())\n",
        "print (rar.namelist())\n",
        "rar.extract('DL2122_HW01/Q1_test.csv',path=path)\n",
        "rar.extract('DL2122_HW01/Q1_train.csv',path=path)\n",
        "shutil.move('DL2122_HW01/Q1_test.csv', os.getcwd())\n",
        "shutil.move('DL2122_HW01/Q1_train.csv', os.getcwd())\n",
        "shutil.rmtree('DL2122_HW01')"
      ],
      "execution_count": 29,
      "outputs": [
        {
          "output_type": "stream",
          "name": "stdout",
          "text": [
            "<rarfile.Rar5FileInfo object at 0x7f12e4cd6750>\n",
            "[<rarfile.Rar5FileInfo object at 0x7f12e4cd6750>, <rarfile.Rar5FileInfo object at 0x7f12e4cd6c90>, <rarfile.Rar5FileInfo object at 0x7f12e4cd6a50>, <rarfile.Rar5FileInfo object at 0x7f12e4cd6450>, <rarfile.Rar5FileInfo object at 0x7f12e4cd6850>]\n",
            "['DL2122_HW01/Q1_test.csv', 'DL2122_HW01/Q1_train.csv', 'DL2122_HW01/Q2_ReadMe.pdf', 'DL2122_HW01/Q2_ToDo.ipynb', 'DL2122_HW01/']\n"
          ]
        }
      ]
    },
    {
      "cell_type": "code",
      "metadata": {
        "id": "goW8tbVdUcrV"
      },
      "source": [
        "!git config --global user.email \"pooria.ashrafian@gmail.com\"\n",
        "!git config --global user.name \"Pooria90\"\n",
        "!git config http.postBuffer 524288000\n",
        "!git push https://<Token>:x-oauth-basic@github.com/Pooria90/Hand-Gestures-Classification.git main"
      ],
      "execution_count": 39,
      "outputs": []
    },
    {
      "cell_type": "code",
      "metadata": {
        "id": "42r6fdhXd-Ms"
      },
      "source": [
        ""
      ],
      "execution_count": null,
      "outputs": []
    }
  ]
}